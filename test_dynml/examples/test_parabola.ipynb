{
 "cells": [
  {
   "cell_type": "markdown",
   "metadata": {},
   "source": [
    "# test_parabola.ipynb"
   ]
  },
  {
   "cell_type": "markdown",
   "metadata": {},
   "source": [
    "### Install"
   ]
  },
  {
   "cell_type": "code",
   "execution_count": null,
   "metadata": {
    "vscode": {
     "languageId": "shellscript"
    }
   },
   "outputs": [],
   "source": [
    "pip install git+https://github.com/grmacchio/dynml.git"
   ]
  },
  {
   "cell_type": "markdown",
   "metadata": {},
   "source": [
    "### Imports and Data Type Setting"
   ]
  },
  {
   "cell_type": "code",
   "execution_count": 2,
   "metadata": {},
   "outputs": [],
   "source": [
    "from math import floor\n",
    "from random import seed as seed\n",
    "\n",
    "from matplotlib.pyplot import show, subplots\n",
    "from torch import float64, manual_seed as torch_manual_seed, set_default_dtype\n",
    "from torch.cuda import manual_seed as cuda_manual_seed\n",
    "\n",
    "from dynml.dyn.cont.ode.firstorder.discretize import gen_approx_discrete_sys\n",
    "from dynml.dyn.discrete.numsolve import gen_num_trajs\n",
    "from dynml.examples.parabola import Parabola"
   ]
  },
  {
   "cell_type": "code",
   "execution_count": 3,
   "metadata": {},
   "outputs": [],
   "source": [
    "seed(0)                                                                         # set the random seed\n",
    "torch_manual_seed(0)                                                            # set the torch random seed\n",
    "cuda_manual_seed(0)                                                             # set the cuda random seed"
   ]
  },
  {
   "cell_type": "code",
   "execution_count": 4,
   "metadata": {},
   "outputs": [],
   "source": [
    "set_default_dtype(float64)                                                      # set the default data type"
   ]
  },
  {
   "cell_type": "markdown",
   "metadata": {},
   "source": [
    "### Generate Trajectories"
   ]
  },
  {
   "cell_type": "code",
   "execution_count": 5,
   "metadata": {},
   "outputs": [
    {
     "name": "stderr",
     "output_type": "stream",
     "text": [
      "100%|██████████| 10000/10000 [00:00<00:00, 11372.34it/s]\n"
     ]
    }
   ],
   "source": [
    "fos = Parabola()                                                                # initialize the dynamical system\n",
    "\n",
    "dt = 0.01                                                                       # set the time step\n",
    "dm = 'rk4'                                                                      # set the discretization method\n",
    "discrete_sys = gen_approx_discrete_sys(fos, dt, dm)                             # generate the discrete system\n",
    "\n",
    "num_traj = 10                                                                   # set the square root of the number of trajectories for plotting\n",
    "t_final = 100.0                                                                 # set the final time\n",
    "num_samples = floor(t_final/dt) + 1                                             # set the number of samples\n",
    "trajs = gen_num_trajs(discrete_sys, fos.gen_ic, num_traj,                       # generate the trajectories\n",
    "                      num_samples, compute='cpu', output='cpu', pbar=True)"
   ]
  },
  {
   "cell_type": "markdown",
   "metadata": {},
   "source": [
    "### Plot Trajectories"
   ]
  },
  {
   "cell_type": "code",
   "execution_count": 6,
   "metadata": {},
   "outputs": [
    {
     "data": {
      "image/png": "[encoded data removed]",
      "text/plain": [
       "<Figure size 640x480 with 1 Axes>"
      ]
     },
     "metadata": {},
     "output_type": "display_data"
    }
   ],
   "source": [
    "fig, ax = subplots(1, 1)                                                        # create a figure and axis\n",
    "ax.plot(trajs[:, :, 0].T, trajs[:, :, 1].T)                                     # plot the trajectories\n",
    "ax.set_aspect('equal')                                                          # set the aspect ratio to be equal\n",
    "ax.set_xlim(-1.5, 1.5)                                                          # set the x-axis limits\n",
    "ax.set_ylim(-1.5, 1.5)                                                          # set the y-axis limits\n",
    "ax.set_xlabel('$x_1$')                                                          # set the x-axis label\n",
    "ax.set_ylabel('$x_2$')                                                          # set the y-axis label\n",
    "ax.grid()                                                                       # add a grid\n",
    "show()                                                                          # show the plot"
   ]
  }
 ],
 "metadata": {
  "kernelspec": {
   "display_name": "base",
   "language": "python",
   "name": "python3"
  },
  "language_info": {
   "codemirror_mode": {
    "name": "ipython",
    "version": 3
   },
   "file_extension": ".py",
   "mimetype": "text/x-python",
   "name": "python",
   "nbconvert_exporter": "python",
   "pygments_lexer": "ipython3",
   "version": "3.10.13"
  }
 },
 "nbformat": 4,
 "nbformat_minor": 2
}
